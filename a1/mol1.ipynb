{
 "cells": [
  {
   "cell_type": "markdown",
   "metadata": {},
   "source": [
    "1. Installing dependencies"
   ]
  },
  {
   "cell_type": "code",
   "execution_count": 1,
   "metadata": {},
   "outputs": [],
   "source": [
    "import codecs\n",
    "import random"
   ]
  },
  {
   "cell_type": "markdown",
   "metadata": {},
   "source": [
    "2. In this assignment I decided to play with the poems I wrote a few years ago. I tried to look more into the words meaning this time, instead of their visual representation."
   ]
  },
  {
   "cell_type": "code",
   "execution_count": 2,
   "metadata": {},
   "outputs": [],
   "source": [
    "poems = ['01', '02', '03']\n",
    "current_poem = poems[2]\n",
    "\n",
    "with open(current_poem + '.txt','r') as poem:\n",
    "    content = poem.read()\n",
    "    words_array = content.split()\n",
    "    # print(words_array[4])"
   ]
  },
  {
   "cell_type": "code",
   "execution_count": 3,
   "metadata": {},
   "outputs": [],
   "source": [
    "new_poem = ''\n",
    "counter = 0\n",
    "line_length = random.randint(1, 7)\n",
    "for i in range(0, len(words_array)):\n",
    "    element_index = random.randint(0, len(words_array)-1)\n",
    "    new_poem += words_array[element_index]\n",
    "    counter += 1\n",
    "    if counter == line_length:\n",
    "        counter = 0\n",
    "        line_length = random.randint(1, 7)\n",
    "        new_poem += '\\n'\n",
    "        # print(\"New line\")\n",
    "    else:\n",
    "        new_poem += ' '\n",
    "    # print(words_array[element_index])\n",
    "\n",
    "    del words_array[element_index]"
   ]
  },
  {
   "cell_type": "code",
   "execution_count": 4,
   "metadata": {},
   "outputs": [
    {
     "name": "stdout",
     "output_type": "stream",
     "text": [
      "какое\n",
      "впервые, раны снов? влюбилась, же СЧАСТЛИВА. ну\n",
      "несчастья, соли. не\n",
      "слов. счастье, ну раз, сказать, когда\n",
      "впервые что маленькая\n",
      "- не и сладких\n",
      "горе, ладно,\n",
      "влюбилась. могу горьких, понравившемуся тебе? что, остановку,\n",
      "невкусный на целую не мне\n",
      "писать девочка, по начинаешь\n",
      "этот будто вовсе ведь сделать и\n",
      "прохожему, кофе, сыпали было можно с\n",
      "как прекрасно.\n",
      "как нежно,\n",
      "все наконец-то на и\n",
      "уши хотя еще, знающая совсем не как\n",
      "напрасно? боли. это не\n",
      "пора вовсе - не \n"
     ]
    }
   ],
   "source": [
    "with open(current_poem + \"_modified.txt\", 'w') as f:\n",
    "    f.write(new_poem)\n",
    "\n",
    "print(new_poem)"
   ]
  },
  {
   "cell_type": "markdown",
   "metadata": {},
   "source": [
    "Interestingly, with the randomizer working on my poems, the negative words would become more noticeable in the swapped text.\n",
    "\n",
    "I also tried to play around with the image files and swap some text in them, like in the reqadong. I ended up corrupting the file and it could not be open after that..."
   ]
  },
  {
   "cell_type": "code",
   "execution_count": 5,
   "metadata": {},
   "outputs": [
    {
     "name": "stdout",
     "output_type": "stream",
     "text": [
      "Hello\n"
     ]
    },
    {
     "ename": "TypeError",
     "evalue": "sequence item 0: expected str instance, int found",
     "output_type": "error",
     "traceback": [
      "\u001b[0;31m---------------------------------------------------------------------------\u001b[0m",
      "\u001b[0;31mTypeError\u001b[0m                                 Traceback (most recent call last)",
      "\u001b[0;32m<ipython-input-5-949b33652672>\u001b[0m in \u001b[0;36m<module>\u001b[0;34m\u001b[0m\n\u001b[1;32m      6\u001b[0m     \u001b[0mcontent\u001b[0m \u001b[0;34m=\u001b[0m \u001b[0mimage_file\u001b[0m\u001b[0;34m.\u001b[0m\u001b[0mread\u001b[0m\u001b[0;34m(\u001b[0m\u001b[0;34m)\u001b[0m\u001b[0;34m\u001b[0m\u001b[0;34m\u001b[0m\u001b[0m\n\u001b[1;32m      7\u001b[0m     \u001b[0;31m# print(content)\u001b[0m\u001b[0;34m\u001b[0m\u001b[0;34m\u001b[0m\u001b[0;34m\u001b[0m\u001b[0m\n\u001b[0;32m----> 8\u001b[0;31m     \u001b[0mmodified\u001b[0m \u001b[0;34m=\u001b[0m \u001b[0;34m''\u001b[0m\u001b[0;34m.\u001b[0m\u001b[0mjoin\u001b[0m\u001b[0;34m(\u001b[0m\u001b[0mcontent\u001b[0m\u001b[0;34m[\u001b[0m\u001b[0mc\u001b[0m\u001b[0;34m]\u001b[0m \u001b[0;32mfor\u001b[0m \u001b[0mc\u001b[0m \u001b[0;32min\u001b[0m \u001b[0mrange\u001b[0m\u001b[0;34m(\u001b[0m\u001b[0;36m0\u001b[0m\u001b[0;34m,\u001b[0m \u001b[0;36m3000\u001b[0m\u001b[0;34m)\u001b[0m\u001b[0;34m)\u001b[0m\u001b[0;34m\u001b[0m\u001b[0;34m\u001b[0m\u001b[0m\n\u001b[0m\u001b[1;32m      9\u001b[0m     \u001b[0;32mfor\u001b[0m \u001b[0mc\u001b[0m \u001b[0;32min\u001b[0m \u001b[0mrange\u001b[0m\u001b[0;34m(\u001b[0m\u001b[0;36m3000\u001b[0m\u001b[0;34m,\u001b[0m \u001b[0mlen\u001b[0m\u001b[0;34m(\u001b[0m\u001b[0mcontent\u001b[0m\u001b[0;34m)\u001b[0m\u001b[0;34m)\u001b[0m\u001b[0;34m:\u001b[0m\u001b[0;34m\u001b[0m\u001b[0;34m\u001b[0m\u001b[0m\n\u001b[1;32m     10\u001b[0m         \u001b[0mmodified\u001b[0m \u001b[0;34m=\u001b[0m \u001b[0mmodified\u001b[0m \u001b[0;34m+\u001b[0m \u001b[0;34m' '\u001b[0m \u001b[0;32mif\u001b[0m \u001b[0mrandom\u001b[0m\u001b[0;34m.\u001b[0m\u001b[0mrandint\u001b[0m\u001b[0;34m(\u001b[0m\u001b[0;36m0\u001b[0m\u001b[0;34m,\u001b[0m \u001b[0;36m10\u001b[0m\u001b[0;34m)\u001b[0m \u001b[0;34m>\u001b[0m \u001b[0;36m7\u001b[0m \u001b[0;32melse\u001b[0m \u001b[0mmodified\u001b[0m \u001b[0;34m+\u001b[0m \u001b[0mcontent\u001b[0m\u001b[0;34m[\u001b[0m\u001b[0mc\u001b[0m\u001b[0;34m]\u001b[0m\u001b[0;34m\u001b[0m\u001b[0;34m\u001b[0m\u001b[0m\n",
      "\u001b[0;31mTypeError\u001b[0m: sequence item 0: expected str instance, int found"
     ]
    }
   ],
   "source": [
    "import random\n",
    "\n",
    "\n",
    "print(\"Hello\")\n",
    "with open('photo.jpg','rb') as image_file:\n",
    "    content = image_file.read()\n",
    "    # print(content)\n",
    "    modified = ''.join(content[c] for c in range(0, 3000))\n",
    "    for c in range(3000, len(content)):\n",
    "        modified = modified + ' ' if random.randint(0, 10) > 7 else modified + content[c]\n",
    "\n",
    "with open(\"photo_edited.jpg\", 'wb') as f:\n",
    "    f.write(modified)\n",
    "\n",
    "print(\"Done.\")"
   ]
  }
 ],
 "metadata": {
  "kernelspec": {
   "display_name": "Python 3",
   "language": "python",
   "name": "python3"
  },
  "language_info": {
   "codemirror_mode": {
    "name": "ipython",
    "version": 3
   },
   "file_extension": ".py",
   "mimetype": "text/x-python",
   "name": "python",
   "nbconvert_exporter": "python",
   "pygments_lexer": "ipython3",
   "version": "3.8.5"
  }
 },
 "nbformat": 4,
 "nbformat_minor": 4
}
