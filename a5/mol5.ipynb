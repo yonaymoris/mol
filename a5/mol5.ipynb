{
 "cells": [
  {
   "cell_type": "code",
   "execution_count": 2,
   "metadata": {},
   "outputs": [
    {
     "name": "stdout",
     "output_type": "stream",
     "text": [
      "Collecting https://github.com/aparrish/bezmerizing/archive/master.zip\n",
      "  Downloading https://github.com/aparrish/bezmerizing/archive/master.zip\n",
      "\u001b[K     / 156 kB 579 kB/s\n",
      "\u001b[?25hRequirement already satisfied, skipping upgrade: flat>=0.0.3 in /Users/yonaymoris/opt/anaconda3/lib/python3.8/site-packages (from bezmerizing==0.1.1) (0.3.2)\n",
      "Requirement already satisfied, skipping upgrade: scipy>=1.1.0 in /Users/yonaymoris/opt/anaconda3/lib/python3.8/site-packages (from bezmerizing==0.1.1) (1.5.2)\n",
      "Requirement already satisfied, skipping upgrade: numpy>=1.16.0 in /Users/yonaymoris/opt/anaconda3/lib/python3.8/site-packages (from bezmerizing==0.1.1) (1.19.2)\n",
      "Building wheels for collected packages: bezmerizing\n",
      "  Building wheel for bezmerizing (setup.py) ... \u001b[?25ldone\n",
      "\u001b[?25h  Created wheel for bezmerizing: filename=bezmerizing-0.1.1-py3-none-any.whl size=17284 sha256=5c58d43b837c351604611bfa1df8bd4c4a1d010d31fc32b5910a3ee7af14ff13\n",
      "  Stored in directory: /private/var/folders/jx/w26nlpj56491_9m44ty4md340000gn/T/pip-ephem-wheel-cache-xtuxaxob/wheels/74/5a/7d/4a62c2490b6c6061916e41ae070caaed12664893aef1a56d7c\n",
      "Successfully built bezmerizing\n",
      "Installing collected packages: bezmerizing\n",
      "  Attempting uninstall: bezmerizing\n",
      "    Found existing installation: bezmerizing 0.1.1\n",
      "    Uninstalling bezmerizing-0.1.1:\n",
      "      Successfully uninstalled bezmerizing-0.1.1\n",
      "Successfully installed bezmerizing-0.1.1\n"
     ]
    }
   ],
   "source": [
    "import sys\n",
    "!{sys.executable} -m pip install --upgrade https://github.com/aparrish/bezmerizing/archive/master.zip"
   ]
  },
  {
   "cell_type": "code",
   "execution_count": 11,
   "metadata": {},
   "outputs": [],
   "source": [
    "from flat import document, rgb, rgba, font, strike, shape\n",
    "from flat.command import moveto, quadto, curveto, lineto, closepath\n",
    "from bezmerizing import Polyline, Path\n",
    "import numpy as np\n",
    "from copy import copy\n",
    "import unicodedata\n",
    "from IPython.display import SVG, display\n",
    "def show(page):\n",
    "    display(SVG(page.svg()))"
   ]
  },
  {
   "cell_type": "code",
   "execution_count": 12,
   "metadata": {},
   "outputs": [],
   "source": [
    "f = font.open(\"./NewTegomin-Regular.ttf\")"
   ]
  },
  {
   "cell_type": "code",
   "execution_count": 13,
   "metadata": {},
   "outputs": [],
   "source": [
    "def glyphcommands(f, ch):\n",
    "    return Path([copy(cmd) for cmd in f.glyph(f.charmap[ord(ch)])])\n",
    "def advancefor(f, ch):\n",
    "    return f.advances[f.charmap[ord(ch)]]"
   ]
  },
  {
   "cell_type": "code",
   "execution_count": 17,
   "metadata": {},
   "outputs": [
    {
     "data": {
      "image/svg+xml": [
       "<svg xmlns=\"http://www.w3.org/2000/svg\" xmlns:xlink=\"http://www.w3.org/1999/xlink\" version=\"1.1\" width=\"300pt\" height=\"210pt\" viewBox=\"0 0 300 210\">\n",
       "<title>Untitled</title>\n",
       "<line x1=\"132.336\" y1=\"146.544\" x2=\"132.192\" y2=\"148.416\" fill=\"none\" stroke=\"rgba(0,255,168,1)\" stroke-miterlimit=\"10\"/>\n",
       "<line x1=\"132.192\" y1=\"148.416\" x2=\"93.744\" y2=\"148.416\" fill=\"none\" stroke=\"rgba(0,255,168,1)\" stroke-miterlimit=\"10\"/>\n",
       "<line x1=\"93.744\" y1=\"148.416\" x2=\"91.728\" y2=\"146.544\" fill=\"none\" stroke=\"rgba(0,255,168,1)\" stroke-miterlimit=\"10\"/>\n",
       "<line x1=\"91.728\" y1=\"146.544\" x2=\"93.744\" y2=\"142.512\" fill=\"none\" stroke=\"rgba(0,255,168,1)\" stroke-miterlimit=\"10\"/>\n",
       "<line x1=\"93.744\" y1=\"142.512\" x2=\"95.112\" y2=\"142.584\" fill=\"none\" stroke=\"rgba(0,255,168,1)\" stroke-miterlimit=\"10\"/>\n",
       "<line x1=\"95.112\" y1=\"142.584\" x2=\"96.912\" y2=\"142.8\" fill=\"none\" stroke=\"rgba(0,255,168,1)\" stroke-miterlimit=\"10\"/>\n",
       "<line x1=\"96.912\" y1=\"142.8\" x2=\"102.96\" y2=\"141.504\" fill=\"none\" stroke=\"rgba(0,255,168,1)\" stroke-miterlimit=\"10\"/>\n",
       "<rect x=\"103.176\" y=\"67\" width=\"13.6337\" height=\"13.6337\" fill=\"none\" stroke=\"rgba(0,255,168,1)\" stroke-miterlimit=\"10\"/>\n",
       "<circle cx=\"108.176\" cy=\"62\" r=\"13.6337\" fill=\"none\" stroke=\"rgba(0,255,168,1)\" stroke-miterlimit=\"10\"/>\n",
       "<line x1=\"103.392\" y1=\"140.64\" x2=\"107.136\" y2=\"129.408\" fill=\"none\" stroke=\"rgba(0,255,168,1)\" stroke-miterlimit=\"10\"/>\n",
       "<line x1=\"107.136\" y1=\"129.408\" x2=\"106.704\" y2=\"125.52\" fill=\"none\" stroke=\"rgba(0,255,168,1)\" stroke-miterlimit=\"10\"/>\n",
       "<line x1=\"106.704\" y1=\"125.52\" x2=\"107.136\" y2=\"121.632\" fill=\"none\" stroke=\"rgba(0,255,168,1)\" stroke-miterlimit=\"10\"/>\n",
       "<line x1=\"107.136\" y1=\"121.632\" x2=\"99.36\" y2=\"90.96\" fill=\"none\" stroke=\"rgba(0,255,168,1)\" stroke-miterlimit=\"10\"/>\n",
       "<line x1=\"99.36\" y1=\"90.96\" x2=\"97.488\" y2=\"87.72\" fill=\"none\" stroke=\"rgba(0,255,168,1)\" stroke-miterlimit=\"10\"/>\n",
       "<line x1=\"97.488\" y1=\"87.72\" x2=\"94.752\" y2=\"83.328\" fill=\"none\" stroke=\"rgba(0,255,168,1)\" stroke-miterlimit=\"10\"/>\n",
       "<line x1=\"94.752\" y1=\"83.328\" x2=\"90.792\" y2=\"76.632\" fill=\"none\" stroke=\"rgba(0,255,168,1)\" stroke-miterlimit=\"10\"/>\n",
       "<line x1=\"90.792\" y1=\"76.632\" x2=\"88.128\" y2=\"71.808\" fill=\"none\" stroke=\"rgba(0,255,168,1)\" stroke-miterlimit=\"10\"/>\n",
       "<line x1=\"88.128\" y1=\"71.808\" x2=\"86.112\" y2=\"69.864\" fill=\"none\" stroke=\"rgba(0,255,168,1)\" stroke-miterlimit=\"10\"/>\n",
       "<line x1=\"86.112\" y1=\"69.864\" x2=\"84.096\" y2=\"67.92\" fill=\"none\" stroke=\"rgba(0,255,168,1)\" stroke-miterlimit=\"10\"/>\n",
       "<line x1=\"84.096\" y1=\"67.92\" x2=\"79.344\" y2=\"66.048\" fill=\"none\" stroke=\"rgba(0,255,168,1)\" stroke-miterlimit=\"10\"/>\n",
       "<line x1=\"79.344\" y1=\"66.048\" x2=\"76.608\" y2=\"60.432\" fill=\"none\" stroke=\"rgba(0,255,168,1)\" stroke-miterlimit=\"10\"/>\n",
       "<line x1=\"76.608\" y1=\"60.432\" x2=\"84.384\" y2=\"57.984\" fill=\"none\" stroke=\"rgba(0,255,168,1)\" stroke-miterlimit=\"10\"/>\n",
       "<line x1=\"84.384\" y1=\"57.984\" x2=\"88.344\" y2=\"58.2\" fill=\"none\" stroke=\"rgba(0,255,168,1)\" stroke-miterlimit=\"10\"/>\n",
       "<line x1=\"88.344\" y1=\"58.2\" x2=\"90.288\" y2=\"58.272\" fill=\"none\" stroke=\"rgba(0,255,168,1)\" stroke-miterlimit=\"10\"/>\n",
       "<rect x=\"95.904\" y=\"69\" width=\"8.0929\" height=\"8.0929\" fill=\"none\" stroke=\"rgba(0,255,168,1)\" stroke-miterlimit=\"10\"/>\n",
       "<circle cx=\"100.904\" cy=\"64\" r=\"8.0929\" fill=\"none\" stroke=\"rgba(0,255,168,1)\" stroke-miterlimit=\"10\"/>\n",
       "<line x1=\"101.52\" y1=\"58.272\" x2=\"106.128\" y2=\"61.152\" fill=\"none\" stroke=\"rgba(0,255,168,1)\" stroke-miterlimit=\"10\"/>\n",
       "<line x1=\"106.128\" y1=\"61.152\" x2=\"102.528\" y2=\"65.76\" fill=\"none\" stroke=\"rgba(0,255,168,1)\" stroke-miterlimit=\"10\"/>\n",
       "<line x1=\"102.528\" y1=\"65.76\" x2=\"102.024\" y2=\"65.904\" fill=\"none\" stroke=\"rgba(0,255,168,1)\" stroke-miterlimit=\"10\"/>\n",
       "<line x1=\"102.024\" y1=\"65.904\" x2=\"101.52\" y2=\"66.048\" fill=\"none\" stroke=\"rgba(0,255,168,1)\" stroke-miterlimit=\"10\"/>\n",
       "<line x1=\"101.52\" y1=\"66.048\" x2=\"98.064\" y2=\"68.64\" fill=\"none\" stroke=\"rgba(0,255,168,1)\" stroke-miterlimit=\"10\"/>\n",
       "<line x1=\"98.064\" y1=\"68.64\" x2=\"97.776\" y2=\"69.936\" fill=\"none\" stroke=\"rgba(0,255,168,1)\" stroke-miterlimit=\"10\"/>\n",
       "<line x1=\"97.776\" y1=\"69.936\" x2=\"99.072\" y2=\"71.736\" fill=\"none\" stroke=\"rgba(0,255,168,1)\" stroke-miterlimit=\"10\"/>\n",
       "<line x1=\"99.072\" y1=\"71.736\" x2=\"99.648\" y2=\"73.248\" fill=\"none\" stroke=\"rgba(0,255,168,1)\" stroke-miterlimit=\"10\"/>\n",
       "<rect x=\"99.648\" y=\"56\" width=\"7.6704\" height=\"7.6704\" fill=\"none\" stroke=\"rgba(0,255,168,1)\" stroke-miterlimit=\"10\"/>\n",
       "<circle cx=\"104.648\" cy=\"51\" r=\"7.6704\" fill=\"none\" stroke=\"rgba(0,255,168,1)\" stroke-miterlimit=\"10\"/>\n",
       "<line x1=\"99.648\" y1=\"73.824\" x2=\"105.264\" y2=\"85.056\" fill=\"none\" stroke=\"rgba(0,255,168,1)\" stroke-miterlimit=\"10\"/>\n",
       "<line x1=\"105.264\" y1=\"85.056\" x2=\"113.76\" y2=\"96.144\" fill=\"none\" stroke=\"rgba(0,255,168,1)\" stroke-miterlimit=\"10\"/>\n",
       "<line x1=\"113.76\" y1=\"96.144\" x2=\"114.912\" y2=\"96.72\" fill=\"none\" stroke=\"rgba(0,255,168,1)\" stroke-miterlimit=\"10\"/>\n",
       "<line x1=\"114.912\" y1=\"96.72\" x2=\"122.4\" y2=\"84.624\" fill=\"none\" stroke=\"rgba(0,255,168,1)\" stroke-miterlimit=\"10\"/>\n",
       "<line x1=\"122.4\" y1=\"84.624\" x2=\"128.16\" y2=\"75.696\" fill=\"none\" stroke=\"rgba(0,255,168,1)\" stroke-miterlimit=\"10\"/>\n",
       "<line x1=\"128.16\" y1=\"75.696\" x2=\"130.464\" y2=\"67.92\" fill=\"none\" stroke=\"rgba(0,255,168,1)\" stroke-miterlimit=\"10\"/>\n",
       "<line x1=\"130.464\" y1=\"67.92\" x2=\"126.288\" y2=\"64.32\" fill=\"none\" stroke=\"rgba(0,255,168,1)\" stroke-miterlimit=\"10\"/>\n",
       "<line x1=\"126.288\" y1=\"64.32\" x2=\"126.288\" y2=\"59.568\" fill=\"none\" stroke=\"rgba(0,255,168,1)\" stroke-miterlimit=\"10\"/>\n",
       "<line x1=\"126.288\" y1=\"59.568\" x2=\"128.16\" y2=\"58.272\" fill=\"none\" stroke=\"rgba(0,255,168,1)\" stroke-miterlimit=\"10\"/>\n",
       "<rect x=\"137.736\" y=\"56\" width=\"11.2096\" height=\"11.2096\" fill=\"none\" stroke=\"rgba(0,255,168,1)\" stroke-miterlimit=\"10\"/>\n",
       "<circle cx=\"142.736\" cy=\"51\" r=\"11.2096\" fill=\"none\" stroke=\"rgba(0,255,168,1)\" stroke-miterlimit=\"10\"/>\n",
       "<line x1=\"147.312\" y1=\"58.272\" x2=\"152.64\" y2=\"60\" fill=\"none\" stroke=\"rgba(0,255,168,1)\" stroke-miterlimit=\"10\"/>\n",
       "<line x1=\"152.64\" y1=\"60\" x2=\"150.48\" y2=\"63.888\" fill=\"none\" stroke=\"rgba(0,255,168,1)\" stroke-miterlimit=\"10\"/>\n",
       "<line x1=\"150.48\" y1=\"63.888\" x2=\"149.904\" y2=\"64.104\" fill=\"none\" stroke=\"rgba(0,255,168,1)\" stroke-miterlimit=\"10\"/>\n",
       "<line x1=\"149.904\" y1=\"64.104\" x2=\"149.328\" y2=\"64.32\" fill=\"none\" stroke=\"rgba(0,255,168,1)\" stroke-miterlimit=\"10\"/>\n",
       "<line x1=\"149.328\" y1=\"64.32\" x2=\"139.824\" y2=\"74.688\" fill=\"none\" stroke=\"rgba(0,255,168,1)\" stroke-miterlimit=\"10\"/>\n",
       "<line x1=\"139.824\" y1=\"74.688\" x2=\"132.192\" y2=\"85.2\" fill=\"none\" stroke=\"rgba(0,255,168,1)\" stroke-miterlimit=\"10\"/>\n",
       "<line x1=\"132.192\" y1=\"85.2\" x2=\"118.8\" y2=\"106.368\" fill=\"none\" stroke=\"rgba(0,255,168,1)\" stroke-miterlimit=\"10\"/>\n",
       "<line x1=\"118.8\" y1=\"106.368\" x2=\"116.64\" y2=\"136.896\" fill=\"none\" stroke=\"rgba(0,255,168,1)\" stroke-miterlimit=\"10\"/>\n",
       "<line x1=\"116.64\" y1=\"136.896\" x2=\"119.52\" y2=\"141.648\" fill=\"none\" stroke=\"rgba(0,255,168,1)\" stroke-miterlimit=\"10\"/>\n",
       "<line x1=\"119.52\" y1=\"141.648\" x2=\"122.688\" y2=\"142.512\" fill=\"none\" stroke=\"rgba(0,255,168,1)\" stroke-miterlimit=\"10\"/>\n",
       "<line x1=\"122.688\" y1=\"142.512\" x2=\"127.44\" y2=\"142.8\" fill=\"none\" stroke=\"rgba(0,255,168,1)\" stroke-miterlimit=\"10\"/>\n",
       "<line x1=\"127.44\" y1=\"142.8\" x2=\"132.336\" y2=\"146.544\" fill=\"none\" stroke=\"rgba(0,255,168,1)\" stroke-miterlimit=\"10\"/>\n",
       "</svg>"
      ],
      "text/plain": [
       "<IPython.core.display.SVG object>"
      ]
     },
     "metadata": {},
     "output_type": "display_data"
    }
   ],
   "source": [
    "from math import sqrt\n",
    "import numpy as np\n",
    "d = document(300, 210, 'pt')\n",
    "page = d.addpage()\n",
    "pen = shape().stroke(rgba(0, 255, 168, 255)).nofill()\n",
    "factor = 144 / f.density\n",
    "cx = 0\n",
    "cy = 0\n",
    "glyph_path = glyphcommands(f, \"Y\").scale(factor).translate(72, 150)\n",
    "for cmd in glyph_path:\n",
    "    if type(cmd) == lineto:\n",
    "        posy = np.random.randint(20) + 50\n",
    "        radius = sqrt(pow(cx - cmd.x, 2) + pow(cy - cmd.y*1.2, 2)) * 0.5\n",
    "        page.place(pen.rectangle((cx + cmd.x) / 2, posy, radius, radius))\n",
    "        page.place(pen.circle((cx + cmd.x) / 2 + 5, posy - 5, radius))\n",
    "    elif type(cmd) in (curveto, quadto):\n",
    "        page.place(pen.line(cx, cy, cmd.x, cmd.y))\n",
    "    if type(cmd) != type(closepath):\n",
    "        cx = cmd.x\n",
    "        cy = cmd.y\n",
    "show(page)"
   ]
  },
  {
   "cell_type": "code",
   "execution_count": 19,
   "metadata": {},
   "outputs": [],
   "source": [
    "import ipywidgets as widgets"
   ]
  },
  {
   "cell_type": "code",
   "execution_count": 21,
   "metadata": {},
   "outputs": [
    {
     "data": {
      "application/vnd.jupyter.widget-view+json": {
       "model_id": "3bad1b5de1eb46b8a6d308e8f777a151",
       "version_major": 2,
       "version_minor": 0
      },
      "text/plain": [
       "FloatSlider(value=0.5, description='dairy content', max=1.0, step=0.05)"
      ]
     },
     "metadata": {},
     "output_type": "display_data"
    }
   ],
   "source": [
    "float_slider = widgets.FloatSlider(\n",
    "    description=\"dairy content\",\n",
    "    value=0.5,\n",
    "    min=0,\n",
    "    max=1,\n",
    "    step=0.05)\n",
    "display(float_slider)"
   ]
  },
  {
   "cell_type": "code",
   "execution_count": 25,
   "metadata": {},
   "outputs": [],
   "source": [
    "def drawGlyphTree(glyph=\"Y\"):\n",
    "    d = document(300, 210, 'pt')\n",
    "    page = d.addpage()\n",
    "    pen = shape().stroke(rgba(0, 255, 168, 255)).nofill()\n",
    "    factor = 144 / f.density\n",
    "    cx = 0\n",
    "    cy = 0\n",
    "    glyph_path = glyphcommands(f, glyph).scale(factor).translate(72, 150)\n",
    "    for cmd in glyph_path:\n",
    "        if type(cmd) == lineto:\n",
    "            posy = np.random.randint(20) + 50\n",
    "            radius = sqrt(pow(cx - cmd.x, 2) + pow(cy - cmd.y*1.2, 2)) * 0.5\n",
    "            page.place(pen.rectangle((cx + cmd.x) / 2, posy, radius, radius))\n",
    "            page.place(pen.circle((cx + cmd.x) / 2 + 5, posy - 5, radius))\n",
    "        elif type(cmd) in (curveto, quadto):\n",
    "            page.place(pen.line(cx, cy, cmd.x, cmd.y))\n",
    "        if type(cmd) != type(closepath):\n",
    "            cx = cmd.x\n",
    "            cy = cmd.y\n",
    "    show(page)"
   ]
  },
  {
   "cell_type": "code",
   "execution_count": 26,
   "metadata": {},
   "outputs": [
    {
     "data": {
      "image/svg+xml": [
       "<svg xmlns=\"http://www.w3.org/2000/svg\" xmlns:xlink=\"http://www.w3.org/1999/xlink\" version=\"1.1\" width=\"300pt\" height=\"210pt\" viewBox=\"0 0 300 210\">\n",
       "<title>Untitled</title>\n",
       "<line x1=\"132.336\" y1=\"146.544\" x2=\"132.192\" y2=\"148.416\" fill=\"none\" stroke=\"rgba(0,255,168,1)\" stroke-miterlimit=\"10\"/>\n",
       "<line x1=\"132.192\" y1=\"148.416\" x2=\"93.744\" y2=\"148.416\" fill=\"none\" stroke=\"rgba(0,255,168,1)\" stroke-miterlimit=\"10\"/>\n",
       "<line x1=\"93.744\" y1=\"148.416\" x2=\"91.728\" y2=\"146.544\" fill=\"none\" stroke=\"rgba(0,255,168,1)\" stroke-miterlimit=\"10\"/>\n",
       "<line x1=\"91.728\" y1=\"146.544\" x2=\"93.744\" y2=\"142.512\" fill=\"none\" stroke=\"rgba(0,255,168,1)\" stroke-miterlimit=\"10\"/>\n",
       "<line x1=\"93.744\" y1=\"142.512\" x2=\"95.112\" y2=\"142.584\" fill=\"none\" stroke=\"rgba(0,255,168,1)\" stroke-miterlimit=\"10\"/>\n",
       "<line x1=\"95.112\" y1=\"142.584\" x2=\"96.912\" y2=\"142.8\" fill=\"none\" stroke=\"rgba(0,255,168,1)\" stroke-miterlimit=\"10\"/>\n",
       "<line x1=\"96.912\" y1=\"142.8\" x2=\"102.96\" y2=\"141.504\" fill=\"none\" stroke=\"rgba(0,255,168,1)\" stroke-miterlimit=\"10\"/>\n",
       "<rect x=\"103.176\" y=\"62\" width=\"13.6337\" height=\"13.6337\" fill=\"none\" stroke=\"rgba(0,255,168,1)\" stroke-miterlimit=\"10\"/>\n",
       "<circle cx=\"108.176\" cy=\"57\" r=\"13.6337\" fill=\"none\" stroke=\"rgba(0,255,168,1)\" stroke-miterlimit=\"10\"/>\n",
       "<line x1=\"103.392\" y1=\"140.64\" x2=\"107.136\" y2=\"129.408\" fill=\"none\" stroke=\"rgba(0,255,168,1)\" stroke-miterlimit=\"10\"/>\n",
       "<line x1=\"107.136\" y1=\"129.408\" x2=\"106.704\" y2=\"125.52\" fill=\"none\" stroke=\"rgba(0,255,168,1)\" stroke-miterlimit=\"10\"/>\n",
       "<line x1=\"106.704\" y1=\"125.52\" x2=\"107.136\" y2=\"121.632\" fill=\"none\" stroke=\"rgba(0,255,168,1)\" stroke-miterlimit=\"10\"/>\n",
       "<line x1=\"107.136\" y1=\"121.632\" x2=\"99.36\" y2=\"90.96\" fill=\"none\" stroke=\"rgba(0,255,168,1)\" stroke-miterlimit=\"10\"/>\n",
       "<line x1=\"99.36\" y1=\"90.96\" x2=\"97.488\" y2=\"87.72\" fill=\"none\" stroke=\"rgba(0,255,168,1)\" stroke-miterlimit=\"10\"/>\n",
       "<line x1=\"97.488\" y1=\"87.72\" x2=\"94.752\" y2=\"83.328\" fill=\"none\" stroke=\"rgba(0,255,168,1)\" stroke-miterlimit=\"10\"/>\n",
       "<line x1=\"94.752\" y1=\"83.328\" x2=\"90.792\" y2=\"76.632\" fill=\"none\" stroke=\"rgba(0,255,168,1)\" stroke-miterlimit=\"10\"/>\n",
       "<line x1=\"90.792\" y1=\"76.632\" x2=\"88.128\" y2=\"71.808\" fill=\"none\" stroke=\"rgba(0,255,168,1)\" stroke-miterlimit=\"10\"/>\n",
       "<line x1=\"88.128\" y1=\"71.808\" x2=\"86.112\" y2=\"69.864\" fill=\"none\" stroke=\"rgba(0,255,168,1)\" stroke-miterlimit=\"10\"/>\n",
       "<line x1=\"86.112\" y1=\"69.864\" x2=\"84.096\" y2=\"67.92\" fill=\"none\" stroke=\"rgba(0,255,168,1)\" stroke-miterlimit=\"10\"/>\n",
       "<line x1=\"84.096\" y1=\"67.92\" x2=\"79.344\" y2=\"66.048\" fill=\"none\" stroke=\"rgba(0,255,168,1)\" stroke-miterlimit=\"10\"/>\n",
       "<line x1=\"79.344\" y1=\"66.048\" x2=\"76.608\" y2=\"60.432\" fill=\"none\" stroke=\"rgba(0,255,168,1)\" stroke-miterlimit=\"10\"/>\n",
       "<line x1=\"76.608\" y1=\"60.432\" x2=\"84.384\" y2=\"57.984\" fill=\"none\" stroke=\"rgba(0,255,168,1)\" stroke-miterlimit=\"10\"/>\n",
       "<line x1=\"84.384\" y1=\"57.984\" x2=\"88.344\" y2=\"58.2\" fill=\"none\" stroke=\"rgba(0,255,168,1)\" stroke-miterlimit=\"10\"/>\n",
       "<line x1=\"88.344\" y1=\"58.2\" x2=\"90.288\" y2=\"58.272\" fill=\"none\" stroke=\"rgba(0,255,168,1)\" stroke-miterlimit=\"10\"/>\n",
       "<rect x=\"95.904\" y=\"60\" width=\"8.0929\" height=\"8.0929\" fill=\"none\" stroke=\"rgba(0,255,168,1)\" stroke-miterlimit=\"10\"/>\n",
       "<circle cx=\"100.904\" cy=\"55\" r=\"8.0929\" fill=\"none\" stroke=\"rgba(0,255,168,1)\" stroke-miterlimit=\"10\"/>\n",
       "<line x1=\"101.52\" y1=\"58.272\" x2=\"106.128\" y2=\"61.152\" fill=\"none\" stroke=\"rgba(0,255,168,1)\" stroke-miterlimit=\"10\"/>\n",
       "<line x1=\"106.128\" y1=\"61.152\" x2=\"102.528\" y2=\"65.76\" fill=\"none\" stroke=\"rgba(0,255,168,1)\" stroke-miterlimit=\"10\"/>\n",
       "<line x1=\"102.528\" y1=\"65.76\" x2=\"102.024\" y2=\"65.904\" fill=\"none\" stroke=\"rgba(0,255,168,1)\" stroke-miterlimit=\"10\"/>\n",
       "<line x1=\"102.024\" y1=\"65.904\" x2=\"101.52\" y2=\"66.048\" fill=\"none\" stroke=\"rgba(0,255,168,1)\" stroke-miterlimit=\"10\"/>\n",
       "<line x1=\"101.52\" y1=\"66.048\" x2=\"98.064\" y2=\"68.64\" fill=\"none\" stroke=\"rgba(0,255,168,1)\" stroke-miterlimit=\"10\"/>\n",
       "<line x1=\"98.064\" y1=\"68.64\" x2=\"97.776\" y2=\"69.936\" fill=\"none\" stroke=\"rgba(0,255,168,1)\" stroke-miterlimit=\"10\"/>\n",
       "<line x1=\"97.776\" y1=\"69.936\" x2=\"99.072\" y2=\"71.736\" fill=\"none\" stroke=\"rgba(0,255,168,1)\" stroke-miterlimit=\"10\"/>\n",
       "<line x1=\"99.072\" y1=\"71.736\" x2=\"99.648\" y2=\"73.248\" fill=\"none\" stroke=\"rgba(0,255,168,1)\" stroke-miterlimit=\"10\"/>\n",
       "<rect x=\"99.648\" y=\"59\" width=\"7.6704\" height=\"7.6704\" fill=\"none\" stroke=\"rgba(0,255,168,1)\" stroke-miterlimit=\"10\"/>\n",
       "<circle cx=\"104.648\" cy=\"54\" r=\"7.6704\" fill=\"none\" stroke=\"rgba(0,255,168,1)\" stroke-miterlimit=\"10\"/>\n",
       "<line x1=\"99.648\" y1=\"73.824\" x2=\"105.264\" y2=\"85.056\" fill=\"none\" stroke=\"rgba(0,255,168,1)\" stroke-miterlimit=\"10\"/>\n",
       "<line x1=\"105.264\" y1=\"85.056\" x2=\"113.76\" y2=\"96.144\" fill=\"none\" stroke=\"rgba(0,255,168,1)\" stroke-miterlimit=\"10\"/>\n",
       "<line x1=\"113.76\" y1=\"96.144\" x2=\"114.912\" y2=\"96.72\" fill=\"none\" stroke=\"rgba(0,255,168,1)\" stroke-miterlimit=\"10\"/>\n",
       "<line x1=\"114.912\" y1=\"96.72\" x2=\"122.4\" y2=\"84.624\" fill=\"none\" stroke=\"rgba(0,255,168,1)\" stroke-miterlimit=\"10\"/>\n",
       "<line x1=\"122.4\" y1=\"84.624\" x2=\"128.16\" y2=\"75.696\" fill=\"none\" stroke=\"rgba(0,255,168,1)\" stroke-miterlimit=\"10\"/>\n",
       "<line x1=\"128.16\" y1=\"75.696\" x2=\"130.464\" y2=\"67.92\" fill=\"none\" stroke=\"rgba(0,255,168,1)\" stroke-miterlimit=\"10\"/>\n",
       "<line x1=\"130.464\" y1=\"67.92\" x2=\"126.288\" y2=\"64.32\" fill=\"none\" stroke=\"rgba(0,255,168,1)\" stroke-miterlimit=\"10\"/>\n",
       "<line x1=\"126.288\" y1=\"64.32\" x2=\"126.288\" y2=\"59.568\" fill=\"none\" stroke=\"rgba(0,255,168,1)\" stroke-miterlimit=\"10\"/>\n",
       "<line x1=\"126.288\" y1=\"59.568\" x2=\"128.16\" y2=\"58.272\" fill=\"none\" stroke=\"rgba(0,255,168,1)\" stroke-miterlimit=\"10\"/>\n",
       "<rect x=\"137.736\" y=\"54\" width=\"11.2096\" height=\"11.2096\" fill=\"none\" stroke=\"rgba(0,255,168,1)\" stroke-miterlimit=\"10\"/>\n",
       "<circle cx=\"142.736\" cy=\"49\" r=\"11.2096\" fill=\"none\" stroke=\"rgba(0,255,168,1)\" stroke-miterlimit=\"10\"/>\n",
       "<line x1=\"147.312\" y1=\"58.272\" x2=\"152.64\" y2=\"60\" fill=\"none\" stroke=\"rgba(0,255,168,1)\" stroke-miterlimit=\"10\"/>\n",
       "<line x1=\"152.64\" y1=\"60\" x2=\"150.48\" y2=\"63.888\" fill=\"none\" stroke=\"rgba(0,255,168,1)\" stroke-miterlimit=\"10\"/>\n",
       "<line x1=\"150.48\" y1=\"63.888\" x2=\"149.904\" y2=\"64.104\" fill=\"none\" stroke=\"rgba(0,255,168,1)\" stroke-miterlimit=\"10\"/>\n",
       "<line x1=\"149.904\" y1=\"64.104\" x2=\"149.328\" y2=\"64.32\" fill=\"none\" stroke=\"rgba(0,255,168,1)\" stroke-miterlimit=\"10\"/>\n",
       "<line x1=\"149.328\" y1=\"64.32\" x2=\"139.824\" y2=\"74.688\" fill=\"none\" stroke=\"rgba(0,255,168,1)\" stroke-miterlimit=\"10\"/>\n",
       "<line x1=\"139.824\" y1=\"74.688\" x2=\"132.192\" y2=\"85.2\" fill=\"none\" stroke=\"rgba(0,255,168,1)\" stroke-miterlimit=\"10\"/>\n",
       "<line x1=\"132.192\" y1=\"85.2\" x2=\"118.8\" y2=\"106.368\" fill=\"none\" stroke=\"rgba(0,255,168,1)\" stroke-miterlimit=\"10\"/>\n",
       "<line x1=\"118.8\" y1=\"106.368\" x2=\"116.64\" y2=\"136.896\" fill=\"none\" stroke=\"rgba(0,255,168,1)\" stroke-miterlimit=\"10\"/>\n",
       "<line x1=\"116.64\" y1=\"136.896\" x2=\"119.52\" y2=\"141.648\" fill=\"none\" stroke=\"rgba(0,255,168,1)\" stroke-miterlimit=\"10\"/>\n",
       "<line x1=\"119.52\" y1=\"141.648\" x2=\"122.688\" y2=\"142.512\" fill=\"none\" stroke=\"rgba(0,255,168,1)\" stroke-miterlimit=\"10\"/>\n",
       "<line x1=\"122.688\" y1=\"142.512\" x2=\"127.44\" y2=\"142.8\" fill=\"none\" stroke=\"rgba(0,255,168,1)\" stroke-miterlimit=\"10\"/>\n",
       "<line x1=\"127.44\" y1=\"142.8\" x2=\"132.336\" y2=\"146.544\" fill=\"none\" stroke=\"rgba(0,255,168,1)\" stroke-miterlimit=\"10\"/>\n",
       "</svg>"
      ],
      "text/plain": [
       "<IPython.core.display.SVG object>"
      ]
     },
     "metadata": {},
     "output_type": "display_data"
    }
   ],
   "source": [
    "drawGlyphTree()"
   ]
  },
  {
   "cell_type": "code",
   "execution_count": 27,
   "metadata": {},
   "outputs": [
    {
     "data": {
      "image/svg+xml": [
       "<svg xmlns=\"http://www.w3.org/2000/svg\" xmlns:xlink=\"http://www.w3.org/1999/xlink\" version=\"1.1\" width=\"300pt\" height=\"210pt\" viewBox=\"0 0 300 210\">\n",
       "<title>Untitled</title>\n",
       "<line x1=\"149.04\" y1=\"147.12\" x2=\"151.488\" y2=\"151.728\" fill=\"none\" stroke=\"rgba(0,255,168,1)\" stroke-miterlimit=\"10\"/>\n",
       "<line x1=\"151.488\" y1=\"151.728\" x2=\"145.296\" y2=\"152.016\" fill=\"none\" stroke=\"rgba(0,255,168,1)\" stroke-miterlimit=\"10\"/>\n",
       "<line x1=\"145.296\" y1=\"152.016\" x2=\"144.36\" y2=\"151.8\" fill=\"none\" stroke=\"rgba(0,255,168,1)\" stroke-miterlimit=\"10\"/>\n",
       "<line x1=\"144.36\" y1=\"151.8\" x2=\"143.712\" y2=\"151.728\" fill=\"none\" stroke=\"rgba(0,255,168,1)\" stroke-miterlimit=\"10\"/>\n",
       "<line x1=\"143.712\" y1=\"151.728\" x2=\"125.712\" y2=\"135.168\" fill=\"none\" stroke=\"rgba(0,255,168,1)\" stroke-miterlimit=\"10\"/>\n",
       "<line x1=\"125.712\" y1=\"135.168\" x2=\"124.776\" y2=\"132.72\" fill=\"none\" stroke=\"rgba(0,255,168,1)\" stroke-miterlimit=\"10\"/>\n",
       "<line x1=\"124.776\" y1=\"132.72\" x2=\"124.128\" y2=\"130.272\" fill=\"none\" stroke=\"rgba(0,255,168,1)\" stroke-miterlimit=\"10\"/>\n",
       "<line x1=\"124.128\" y1=\"130.272\" x2=\"123.624\" y2=\"128.544\" fill=\"none\" stroke=\"rgba(0,255,168,1)\" stroke-miterlimit=\"10\"/>\n",
       "<line x1=\"123.624\" y1=\"128.544\" x2=\"122.832\" y2=\"126.24\" fill=\"none\" stroke=\"rgba(0,255,168,1)\" stroke-miterlimit=\"10\"/>\n",
       "<line x1=\"122.832\" y1=\"126.24\" x2=\"120.24\" y2=\"114.72\" fill=\"none\" stroke=\"rgba(0,255,168,1)\" stroke-miterlimit=\"10\"/>\n",
       "<line x1=\"120.24\" y1=\"114.72\" x2=\"117.72\" y2=\"112.056\" fill=\"none\" stroke=\"rgba(0,255,168,1)\" stroke-miterlimit=\"10\"/>\n",
       "<line x1=\"117.72\" y1=\"112.056\" x2=\"112.464\" y2=\"106.8\" fill=\"none\" stroke=\"rgba(0,255,168,1)\" stroke-miterlimit=\"10\"/>\n",
       "<line x1=\"112.464\" y1=\"106.8\" x2=\"100.944\" y2=\"109.248\" fill=\"none\" stroke=\"rgba(0,255,168,1)\" stroke-miterlimit=\"10\"/>\n",
       "<line x1=\"100.944\" y1=\"109.248\" x2=\"96.768\" y2=\"114.72\" fill=\"none\" stroke=\"rgba(0,255,168,1)\" stroke-miterlimit=\"10\"/>\n",
       "<rect x=\"96.768\" y=\"65\" width=\"24.3456\" height=\"24.3456\" fill=\"none\" stroke=\"rgba(0,255,168,1)\" stroke-miterlimit=\"10\"/>\n",
       "<circle cx=\"101.768\" cy=\"60\" r=\"24.3456\" fill=\"none\" stroke=\"rgba(0,255,168,1)\" stroke-miterlimit=\"10\"/>\n",
       "<line x1=\"96.768\" y1=\"136.176\" x2=\"99.072\" y2=\"141.792\" fill=\"none\" stroke=\"rgba(0,255,168,1)\" stroke-miterlimit=\"10\"/>\n",
       "<line x1=\"99.072\" y1=\"141.792\" x2=\"102.96\" y2=\"146.976\" fill=\"none\" stroke=\"rgba(0,255,168,1)\" stroke-miterlimit=\"10\"/>\n",
       "<line x1=\"102.96\" y1=\"146.976\" x2=\"103.032\" y2=\"148.416\" fill=\"none\" stroke=\"rgba(0,255,168,1)\" stroke-miterlimit=\"10\"/>\n",
       "<line x1=\"103.032\" y1=\"148.416\" x2=\"102.816\" y2=\"149.856\" fill=\"none\" stroke=\"rgba(0,255,168,1)\" stroke-miterlimit=\"10\"/>\n",
       "<line x1=\"102.816\" y1=\"149.856\" x2=\"100.944\" y2=\"149.856\" fill=\"none\" stroke=\"rgba(0,255,168,1)\" stroke-miterlimit=\"10\"/>\n",
       "<line x1=\"100.944\" y1=\"149.856\" x2=\"97.632\" y2=\"150\" fill=\"none\" stroke=\"rgba(0,255,168,1)\" stroke-miterlimit=\"10\"/>\n",
       "<line x1=\"97.632\" y1=\"150\" x2=\"77.472\" y2=\"147.84\" fill=\"none\" stroke=\"rgba(0,255,168,1)\" stroke-miterlimit=\"10\"/>\n",
       "<line x1=\"77.472\" y1=\"147.84\" x2=\"79.488\" y2=\"142.512\" fill=\"none\" stroke=\"rgba(0,255,168,1)\" stroke-miterlimit=\"10\"/>\n",
       "<line x1=\"79.488\" y1=\"142.512\" x2=\"81.36\" y2=\"142.08\" fill=\"none\" stroke=\"rgba(0,255,168,1)\" stroke-miterlimit=\"10\"/>\n",
       "<line x1=\"81.36\" y1=\"142.08\" x2=\"86.832\" y2=\"134.16\" fill=\"none\" stroke=\"rgba(0,255,168,1)\" stroke-miterlimit=\"10\"/>\n",
       "<line x1=\"86.832\" y1=\"134.16\" x2=\"86.976\" y2=\"133.152\" fill=\"none\" stroke=\"rgba(0,255,168,1)\" stroke-miterlimit=\"10\"/>\n",
       "<line x1=\"86.976\" y1=\"133.152\" x2=\"86.976\" y2=\"132.288\" fill=\"none\" stroke=\"rgba(0,255,168,1)\" stroke-miterlimit=\"10\"/>\n",
       "<line x1=\"86.976\" y1=\"132.288\" x2=\"87.408\" y2=\"120.624\" fill=\"none\" stroke=\"rgba(0,255,168,1)\" stroke-miterlimit=\"10\"/>\n",
       "<line x1=\"87.408\" y1=\"120.624\" x2=\"88.56\" y2=\"96.432\" fill=\"none\" stroke=\"rgba(0,255,168,1)\" stroke-miterlimit=\"10\"/>\n",
       "<line x1=\"88.56\" y1=\"96.432\" x2=\"88.992\" y2=\"87.216\" fill=\"none\" stroke=\"rgba(0,255,168,1)\" stroke-miterlimit=\"10\"/>\n",
       "<line x1=\"88.992\" y1=\"87.216\" x2=\"89.136\" y2=\"79.44\" fill=\"none\" stroke=\"rgba(0,255,168,1)\" stroke-miterlimit=\"10\"/>\n",
       "<line x1=\"89.136\" y1=\"79.44\" x2=\"81.36\" y2=\"63.888\" fill=\"none\" stroke=\"rgba(0,255,168,1)\" stroke-miterlimit=\"10\"/>\n",
       "<line x1=\"81.36\" y1=\"63.888\" x2=\"79.344\" y2=\"60\" fill=\"none\" stroke=\"rgba(0,255,168,1)\" stroke-miterlimit=\"10\"/>\n",
       "<line x1=\"79.344\" y1=\"60\" x2=\"85.248\" y2=\"57.984\" fill=\"none\" stroke=\"rgba(0,255,168,1)\" stroke-miterlimit=\"10\"/>\n",
       "<rect x=\"100.8\" y=\"52\" width=\"16.5978\" height=\"16.5978\" fill=\"none\" stroke=\"rgba(0,255,168,1)\" stroke-miterlimit=\"10\"/>\n",
       "<circle cx=\"105.8\" cy=\"47\" r=\"16.5978\" fill=\"none\" stroke=\"rgba(0,255,168,1)\" stroke-miterlimit=\"10\"/>\n",
       "<line x1=\"116.352\" y1=\"57.984\" x2=\"123.192\" y2=\"58.56\" fill=\"none\" stroke=\"rgba(0,255,168,1)\" stroke-miterlimit=\"10\"/>\n",
       "<line x1=\"123.192\" y1=\"58.56\" x2=\"128.16\" y2=\"60\" fill=\"none\" stroke=\"rgba(0,255,168,1)\" stroke-miterlimit=\"10\"/>\n",
       "<line x1=\"128.16\" y1=\"60\" x2=\"141.696\" y2=\"74.112\" fill=\"none\" stroke=\"rgba(0,255,168,1)\" stroke-miterlimit=\"10\"/>\n",
       "<line x1=\"141.696\" y1=\"74.112\" x2=\"138.384\" y2=\"94.128\" fill=\"none\" stroke=\"rgba(0,255,168,1)\" stroke-miterlimit=\"10\"/>\n",
       "<line x1=\"138.384\" y1=\"94.128\" x2=\"135.936\" y2=\"97.008\" fill=\"none\" stroke=\"rgba(0,255,168,1)\" stroke-miterlimit=\"10\"/>\n",
       "<line x1=\"135.936\" y1=\"97.008\" x2=\"131.76\" y2=\"100.464\" fill=\"none\" stroke=\"rgba(0,255,168,1)\" stroke-miterlimit=\"10\"/>\n",
       "<line x1=\"131.76\" y1=\"100.464\" x2=\"124.848\" y2=\"105.072\" fill=\"none\" stroke=\"rgba(0,255,168,1)\" stroke-miterlimit=\"10\"/>\n",
       "<line x1=\"124.848\" y1=\"105.072\" x2=\"122.256\" y2=\"106.8\" fill=\"none\" stroke=\"rgba(0,255,168,1)\" stroke-miterlimit=\"10\"/>\n",
       "<line x1=\"122.256\" y1=\"106.8\" x2=\"129.96\" y2=\"118.68\" fill=\"none\" stroke=\"rgba(0,255,168,1)\" stroke-miterlimit=\"10\"/>\n",
       "<line x1=\"129.96\" y1=\"118.68\" x2=\"137.232\" y2=\"134.592\" fill=\"none\" stroke=\"rgba(0,255,168,1)\" stroke-miterlimit=\"10\"/>\n",
       "<line x1=\"137.232\" y1=\"134.592\" x2=\"137.52\" y2=\"135.312\" fill=\"none\" stroke=\"rgba(0,255,168,1)\" stroke-miterlimit=\"10\"/>\n",
       "<line x1=\"137.52\" y1=\"135.312\" x2=\"137.808\" y2=\"136.176\" fill=\"none\" stroke=\"rgba(0,255,168,1)\" stroke-miterlimit=\"10\"/>\n",
       "<line x1=\"137.808\" y1=\"136.176\" x2=\"143.712\" y2=\"145.248\" fill=\"none\" stroke=\"rgba(0,255,168,1)\" stroke-miterlimit=\"10\"/>\n",
       "<line x1=\"143.712\" y1=\"145.248\" x2=\"147.6\" y2=\"145.968\" fill=\"none\" stroke=\"rgba(0,255,168,1)\" stroke-miterlimit=\"10\"/>\n",
       "<line x1=\"147.6\" y1=\"145.968\" x2=\"148.248\" y2=\"146.544\" fill=\"none\" stroke=\"rgba(0,255,168,1)\" stroke-miterlimit=\"10\"/>\n",
       "<line x1=\"148.248\" y1=\"146.544\" x2=\"149.04\" y2=\"147.12\" fill=\"none\" stroke=\"rgba(0,255,168,1)\" stroke-miterlimit=\"10\"/>\n",
       "<rect x=\"98.784\" y=\"56\" width=\"16.3536\" height=\"16.3536\" fill=\"none\" stroke=\"rgba(0,255,168,1)\" stroke-miterlimit=\"10\"/>\n",
       "<circle cx=\"103.784\" cy=\"51\" r=\"16.3536\" fill=\"none\" stroke=\"rgba(0,255,168,1)\" stroke-miterlimit=\"10\"/>\n",
       "<line x1=\"98.784\" y1=\"95.136\" x2=\"102.816\" y2=\"101.04\" fill=\"none\" stroke=\"rgba(0,255,168,1)\" stroke-miterlimit=\"10\"/>\n",
       "<line x1=\"102.816\" y1=\"101.04\" x2=\"118.368\" y2=\"99.168\" fill=\"none\" stroke=\"rgba(0,255,168,1)\" stroke-miterlimit=\"10\"/>\n",
       "<line x1=\"118.368\" y1=\"99.168\" x2=\"133.92\" y2=\"81.456\" fill=\"none\" stroke=\"rgba(0,255,168,1)\" stroke-miterlimit=\"10\"/>\n",
       "<line x1=\"133.92\" y1=\"81.456\" x2=\"130.032\" y2=\"69.648\" fill=\"none\" stroke=\"rgba(0,255,168,1)\" stroke-miterlimit=\"10\"/>\n",
       "<line x1=\"130.032\" y1=\"69.648\" x2=\"108.72\" y2=\"64.32\" fill=\"none\" stroke=\"rgba(0,255,168,1)\" stroke-miterlimit=\"10\"/>\n",
       "<line x1=\"108.72\" y1=\"64.32\" x2=\"106.704\" y2=\"64.968\" fill=\"none\" stroke=\"rgba(0,255,168,1)\" stroke-miterlimit=\"10\"/>\n",
       "<line x1=\"106.704\" y1=\"64.968\" x2=\"104.688\" y2=\"65.76\" fill=\"none\" stroke=\"rgba(0,255,168,1)\" stroke-miterlimit=\"10\"/>\n",
       "<line x1=\"104.688\" y1=\"65.76\" x2=\"98.496\" y2=\"74.976\" fill=\"none\" stroke=\"rgba(0,255,168,1)\" stroke-miterlimit=\"10\"/>\n",
       "<line x1=\"98.496\" y1=\"74.976\" x2=\"98.496\" y2=\"76.416\" fill=\"none\" stroke=\"rgba(0,255,168,1)\" stroke-miterlimit=\"10\"/>\n",
       "<line x1=\"98.496\" y1=\"76.416\" x2=\"98.64\" y2=\"78.432\" fill=\"none\" stroke=\"rgba(0,255,168,1)\" stroke-miterlimit=\"10\"/>\n",
       "<line x1=\"98.64\" y1=\"78.432\" x2=\"98.784\" y2=\"80.16\" fill=\"none\" stroke=\"rgba(0,255,168,1)\" stroke-miterlimit=\"10\"/>\n",
       "<line x1=\"98.784\" y1=\"80.16\" x2=\"98.784\" y2=\"81.456\" fill=\"none\" stroke=\"rgba(0,255,168,1)\" stroke-miterlimit=\"10\"/>\n",
       "</svg>"
      ],
      "text/plain": [
       "<IPython.core.display.SVG object>"
      ]
     },
     "metadata": {},
     "output_type": "display_data"
    }
   ],
   "source": [
    "drawGlyphTree(\"R\")"
   ]
  },
  {
   "cell_type": "code",
   "execution_count": 28,
   "metadata": {},
   "outputs": [
    {
     "data": {
      "image/svg+xml": [
       "<svg xmlns=\"http://www.w3.org/2000/svg\" xmlns:xlink=\"http://www.w3.org/1999/xlink\" version=\"1.1\" width=\"300pt\" height=\"210pt\" viewBox=\"0 0 300 210\">\n",
       "<title>Untitled</title>\n",
       "<line x1=\"151.92\" y1=\"132.144\" x2=\"139.104\" y2=\"150.144\" fill=\"none\" stroke=\"rgba(0,255,168,1)\" stroke-miterlimit=\"10\"/>\n",
       "<line x1=\"139.104\" y1=\"150.144\" x2=\"106.992\" y2=\"149.136\" fill=\"none\" stroke=\"rgba(0,255,168,1)\" stroke-miterlimit=\"10\"/>\n",
       "<line x1=\"106.992\" y1=\"149.136\" x2=\"102.024\" y2=\"146.04\" fill=\"none\" stroke=\"rgba(0,255,168,1)\" stroke-miterlimit=\"10\"/>\n",
       "<line x1=\"102.024\" y1=\"146.04\" x2=\"97.632\" y2=\"142.368\" fill=\"none\" stroke=\"rgba(0,255,168,1)\" stroke-miterlimit=\"10\"/>\n",
       "<line x1=\"97.632\" y1=\"142.368\" x2=\"89.856\" y2=\"126.528\" fill=\"none\" stroke=\"rgba(0,255,168,1)\" stroke-miterlimit=\"10\"/>\n",
       "<rect x=\"89.856\" y=\"64\" width=\"6.4416\" height=\"6.4416\" fill=\"none\" stroke=\"rgba(0,255,168,1)\" stroke-miterlimit=\"10\"/>\n",
       "<circle cx=\"94.856\" cy=\"59\" r=\"6.4416\" fill=\"none\" stroke=\"rgba(0,255,168,1)\" stroke-miterlimit=\"10\"/>\n",
       "<line x1=\"89.856\" y1=\"94.704\" x2=\"91.728\" y2=\"83.04\" fill=\"none\" stroke=\"rgba(0,255,168,1)\" stroke-miterlimit=\"10\"/>\n",
       "<line x1=\"91.728\" y1=\"83.04\" x2=\"89.712\" y2=\"69.216\" fill=\"none\" stroke=\"rgba(0,255,168,1)\" stroke-miterlimit=\"10\"/>\n",
       "<line x1=\"89.712\" y1=\"69.216\" x2=\"80.208\" y2=\"65.184\" fill=\"none\" stroke=\"rgba(0,255,168,1)\" stroke-miterlimit=\"10\"/>\n",
       "<line x1=\"80.208\" y1=\"65.184\" x2=\"76.608\" y2=\"60.288\" fill=\"none\" stroke=\"rgba(0,255,168,1)\" stroke-miterlimit=\"10\"/>\n",
       "<line x1=\"76.608\" y1=\"60.288\" x2=\"80.208\" y2=\"57.408\" fill=\"none\" stroke=\"rgba(0,255,168,1)\" stroke-miterlimit=\"10\"/>\n",
       "<line x1=\"80.208\" y1=\"57.408\" x2=\"83.664\" y2=\"57.408\" fill=\"none\" stroke=\"rgba(0,255,168,1)\" stroke-miterlimit=\"10\"/>\n",
       "<line x1=\"83.664\" y1=\"57.408\" x2=\"88.416\" y2=\"57.264\" fill=\"none\" stroke=\"rgba(0,255,168,1)\" stroke-miterlimit=\"10\"/>\n",
       "<line x1=\"88.416\" y1=\"57.264\" x2=\"102.24\" y2=\"57.12\" fill=\"none\" stroke=\"rgba(0,255,168,1)\" stroke-miterlimit=\"10\"/>\n",
       "<line x1=\"102.24\" y1=\"57.12\" x2=\"113.328\" y2=\"57.984\" fill=\"none\" stroke=\"rgba(0,255,168,1)\" stroke-miterlimit=\"10\"/>\n",
       "<line x1=\"113.328\" y1=\"57.984\" x2=\"112.176\" y2=\"62.592\" fill=\"none\" stroke=\"rgba(0,255,168,1)\" stroke-miterlimit=\"10\"/>\n",
       "<line x1=\"112.176\" y1=\"62.592\" x2=\"111.456\" y2=\"62.88\" fill=\"none\" stroke=\"rgba(0,255,168,1)\" stroke-miterlimit=\"10\"/>\n",
       "<line x1=\"111.456\" y1=\"62.88\" x2=\"110.304\" y2=\"63.312\" fill=\"none\" stroke=\"rgba(0,255,168,1)\" stroke-miterlimit=\"10\"/>\n",
       "<line x1=\"110.304\" y1=\"63.312\" x2=\"101.952\" y2=\"69.36\" fill=\"none\" stroke=\"rgba(0,255,168,1)\" stroke-miterlimit=\"10\"/>\n",
       "<line x1=\"101.952\" y1=\"69.36\" x2=\"99.792\" y2=\"78.864\" fill=\"none\" stroke=\"rgba(0,255,168,1)\" stroke-miterlimit=\"10\"/>\n",
       "<line x1=\"99.792\" y1=\"78.864\" x2=\"100.224\" y2=\"94.56\" fill=\"none\" stroke=\"rgba(0,255,168,1)\" stroke-miterlimit=\"10\"/>\n",
       "<line x1=\"100.224\" y1=\"94.56\" x2=\"99.792\" y2=\"122.496\" fill=\"none\" stroke=\"rgba(0,255,168,1)\" stroke-miterlimit=\"10\"/>\n",
       "<line x1=\"99.792\" y1=\"122.496\" x2=\"101.664\" y2=\"136.32\" fill=\"none\" stroke=\"rgba(0,255,168,1)\" stroke-miterlimit=\"10\"/>\n",
       "<line x1=\"101.664\" y1=\"136.32\" x2=\"120.24\" y2=\"146.976\" fill=\"none\" stroke=\"rgba(0,255,168,1)\" stroke-miterlimit=\"10\"/>\n",
       "<line x1=\"120.24\" y1=\"146.976\" x2=\"139.68\" y2=\"142.8\" fill=\"none\" stroke=\"rgba(0,255,168,1)\" stroke-miterlimit=\"10\"/>\n",
       "<line x1=\"139.68\" y1=\"142.8\" x2=\"146.304\" y2=\"120.192\" fill=\"none\" stroke=\"rgba(0,255,168,1)\" stroke-miterlimit=\"10\"/>\n",
       "<line x1=\"146.304\" y1=\"120.192\" x2=\"147.456\" y2=\"107.16\" fill=\"none\" stroke=\"rgba(0,255,168,1)\" stroke-miterlimit=\"10\"/>\n",
       "<line x1=\"147.456\" y1=\"107.16\" x2=\"146.88\" y2=\"96.864\" fill=\"none\" stroke=\"rgba(0,255,168,1)\" stroke-miterlimit=\"10\"/>\n",
       "<rect x=\"146.88\" y=\"56\" width=\"4.5696\" height=\"4.5696\" fill=\"none\" stroke=\"rgba(0,255,168,1)\" stroke-miterlimit=\"10\"/>\n",
       "<circle cx=\"151.88\" cy=\"51\" r=\"4.5696\" fill=\"none\" stroke=\"rgba(0,255,168,1)\" stroke-miterlimit=\"10\"/>\n",
       "<line x1=\"146.88\" y1=\"73.104\" x2=\"144.72\" y2=\"66.048\" fill=\"none\" stroke=\"rgba(0,255,168,1)\" stroke-miterlimit=\"10\"/>\n",
       "<line x1=\"144.72\" y1=\"66.048\" x2=\"140.976\" y2=\"65.184\" fill=\"none\" stroke=\"rgba(0,255,168,1)\" stroke-miterlimit=\"10\"/>\n",
       "<line x1=\"140.976\" y1=\"65.184\" x2=\"134.352\" y2=\"61.728\" fill=\"none\" stroke=\"rgba(0,255,168,1)\" stroke-miterlimit=\"10\"/>\n",
       "<line x1=\"134.352\" y1=\"61.728\" x2=\"135.072\" y2=\"57.696\" fill=\"none\" stroke=\"rgba(0,255,168,1)\" stroke-miterlimit=\"10\"/>\n",
       "<line x1=\"135.072\" y1=\"57.696\" x2=\"137.088\" y2=\"57.408\" fill=\"none\" stroke=\"rgba(0,255,168,1)\" stroke-miterlimit=\"10\"/>\n",
       "<rect x=\"147.888\" y=\"57\" width=\"12.231\" height=\"12.231\" fill=\"none\" stroke=\"rgba(0,255,168,1)\" stroke-miterlimit=\"10\"/>\n",
       "<circle cx=\"152.888\" cy=\"52\" r=\"12.231\" fill=\"none\" stroke=\"rgba(0,255,168,1)\" stroke-miterlimit=\"10\"/>\n",
       "<line x1=\"158.688\" y1=\"57.408\" x2=\"162.288\" y2=\"59.856\" fill=\"none\" stroke=\"rgba(0,255,168,1)\" stroke-miterlimit=\"10\"/>\n",
       "<line x1=\"162.288\" y1=\"59.856\" x2=\"162.72\" y2=\"61.296\" fill=\"none\" stroke=\"rgba(0,255,168,1)\" stroke-miterlimit=\"10\"/>\n",
       "<line x1=\"162.72\" y1=\"61.296\" x2=\"154.368\" y2=\"72.672\" fill=\"none\" stroke=\"rgba(0,255,168,1)\" stroke-miterlimit=\"10\"/>\n",
       "<line x1=\"154.368\" y1=\"72.672\" x2=\"154.08\" y2=\"74.328\" fill=\"none\" stroke=\"rgba(0,255,168,1)\" stroke-miterlimit=\"10\"/>\n",
       "<line x1=\"154.08\" y1=\"74.328\" x2=\"153.792\" y2=\"76.848\" fill=\"none\" stroke=\"rgba(0,255,168,1)\" stroke-miterlimit=\"10\"/>\n",
       "<line x1=\"153.792\" y1=\"76.848\" x2=\"153.288\" y2=\"80.448\" fill=\"none\" stroke=\"rgba(0,255,168,1)\" stroke-miterlimit=\"10\"/>\n",
       "<line x1=\"153.288\" y1=\"80.448\" x2=\"152.784\" y2=\"83.04\" fill=\"none\" stroke=\"rgba(0,255,168,1)\" stroke-miterlimit=\"10\"/>\n",
       "<line x1=\"152.784\" y1=\"83.04\" x2=\"153.216\" y2=\"92.544\" fill=\"none\" stroke=\"rgba(0,255,168,1)\" stroke-miterlimit=\"10\"/>\n",
       "<line x1=\"153.216\" y1=\"92.544\" x2=\"151.92\" y2=\"132.144\" fill=\"none\" stroke=\"rgba(0,255,168,1)\" stroke-miterlimit=\"10\"/>\n",
       "</svg>"
      ],
      "text/plain": [
       "<IPython.core.display.SVG object>"
      ]
     },
     "metadata": {},
     "output_type": "display_data"
    }
   ],
   "source": [
    "drawGlyphTree(\"U\")"
   ]
  },
  {
   "cell_type": "code",
   "execution_count": 32,
   "metadata": {},
   "outputs": [],
   "source": [
    "def disp_square(size=40):\n",
    "    page = document(80, 80, 'mm').addpage()\n",
    "    pen = shape().fill(rgb(120, 40, 160)).nostroke()\n",
    "    page.place(pen.rectangle(10, 10, size, size))\n",
    "    show(page)"
   ]
  },
  {
   "cell_type": "code",
   "execution_count": 46,
   "metadata": {},
   "outputs": [
    {
     "data": {
      "application/vnd.jupyter.widget-view+json": {
       "model_id": "ee4702b240994d64a8c0f7d21f7de69c",
       "version_major": 2,
       "version_minor": 0
      },
      "text/plain": [
       "IntSlider(value=5, max=10)"
      ]
     },
     "metadata": {},
     "output_type": "display_data"
    },
    {
     "data": {
      "application/vnd.jupyter.widget-view+json": {
       "model_id": "299270cb1f6f4a189ccb4828d64f845d",
       "version_major": 2,
       "version_minor": 0
      },
      "text/plain": [
       "interactive(children=(Text(value='Y', description='glyph'), Output()), _dom_classes=('widget-interact',))"
      ]
     },
     "metadata": {},
     "output_type": "display_data"
    },
    {
     "data": {
      "text/plain": [
       "<function __main__.drawGlyphTree(glyph='Y')>"
      ]
     },
     "execution_count": 46,
     "metadata": {},
     "output_type": "execute_result"
    }
   ],
   "source": [
    "glyph_slider = widgets.IntSlider(min=0, max=10, value=5)\n",
    "glyphsArray = [\"A\", \"B\", \"C\", \"D\", \"E\", \"F\", \"G\", \"H\", \"I\", \"K\", \"L\"]\n",
    "\n",
    "\n",
    "display(glyph_slider)\n",
    "widgets.interact(drawGlyphTree, value=glyphsArray[glyph_slider.value])\n",
    "# widgets.interact(disp_square, size=size_slider)\n",
    "# print(glyphsArray[size_slider.value])"
   ]
  },
  {
   "cell_type": "code",
   "execution_count": 47,
   "metadata": {},
   "outputs": [],
   "source": [
    "def drawGlyphTreeByValue(value=1):\n",
    "    glyphsArray = [\"A\", \"B\", \"C\", \"D\", \"E\", \"F\", \"G\", \"H\", \"I\", \"K\", \"L\"]\n",
    "    glyph = glyphsArray[value]\n",
    "    d = document(300, 210, 'pt')\n",
    "    page = d.addpage()\n",
    "    pen = shape().stroke(rgba(0, 255, 168, 255)).nofill()\n",
    "    factor = 144 / f.density\n",
    "    cx = 0\n",
    "    cy = 0\n",
    "    glyph_path = glyphcommands(f, glyph).scale(factor).translate(72, 150)\n",
    "    for cmd in glyph_path:\n",
    "        if type(cmd) == lineto:\n",
    "            posy = np.random.randint(20) + 50\n",
    "            radius = sqrt(pow(cx - cmd.x, 2) + pow(cy - cmd.y*1.2, 2)) * 0.5\n",
    "            page.place(pen.rectangle((cx + cmd.x) / 2, posy, radius, radius))\n",
    "            page.place(pen.circle((cx + cmd.x) / 2 + 5, posy - 5, radius))\n",
    "        elif type(cmd) in (curveto, quadto):\n",
    "            page.place(pen.line(cx, cy, cmd.x, cmd.y))\n",
    "        if type(cmd) != type(closepath):\n",
    "            cx = cmd.x\n",
    "            cy = cmd.y\n",
    "    show(page)"
   ]
  },
  {
   "cell_type": "code",
   "execution_count": 48,
   "metadata": {},
   "outputs": [
    {
     "data": {
      "image/svg+xml": [
       "<svg xmlns=\"http://www.w3.org/2000/svg\" xmlns:xlink=\"http://www.w3.org/1999/xlink\" version=\"1.1\" width=\"300pt\" height=\"210pt\" viewBox=\"0 0 300 210\">\n",
       "<title>Untitled</title>\n",
       "<rect x=\"122.76\" y=\"50\" width=\"15.2244\" height=\"15.2244\" fill=\"none\" stroke=\"rgba(0,255,168,1)\" stroke-miterlimit=\"10\"/>\n",
       "<circle cx=\"127.76\" cy=\"45\" r=\"15.2244\" fill=\"none\" stroke=\"rgba(0,255,168,1)\" stroke-miterlimit=\"10\"/>\n",
       "<line x1=\"120.24\" y1=\"150.144\" x2=\"112.536\" y2=\"150.504\" fill=\"none\" stroke=\"rgba(0,255,168,1)\" stroke-miterlimit=\"10\"/>\n",
       "<line x1=\"112.536\" y1=\"150.504\" x2=\"99.792\" y2=\"149.856\" fill=\"none\" stroke=\"rgba(0,255,168,1)\" stroke-miterlimit=\"10\"/>\n",
       "<line x1=\"99.792\" y1=\"149.856\" x2=\"89.568\" y2=\"149.568\" fill=\"none\" stroke=\"rgba(0,255,168,1)\" stroke-miterlimit=\"10\"/>\n",
       "<line x1=\"89.568\" y1=\"149.568\" x2=\"81.792\" y2=\"150.144\" fill=\"none\" stroke=\"rgba(0,255,168,1)\" stroke-miterlimit=\"10\"/>\n",
       "<line x1=\"81.792\" y1=\"150.144\" x2=\"76.032\" y2=\"146.256\" fill=\"none\" stroke=\"rgba(0,255,168,1)\" stroke-miterlimit=\"10\"/>\n",
       "<line x1=\"76.032\" y1=\"146.256\" x2=\"77.184\" y2=\"143.088\" fill=\"none\" stroke=\"rgba(0,255,168,1)\" stroke-miterlimit=\"10\"/>\n",
       "<rect x=\"77.544\" y=\"52\" width=\"13.8815\" height=\"13.8815\" fill=\"none\" stroke=\"rgba(0,255,168,1)\" stroke-miterlimit=\"10\"/>\n",
       "<circle cx=\"82.544\" cy=\"47\" r=\"13.8815\" fill=\"none\" stroke=\"rgba(0,255,168,1)\" stroke-miterlimit=\"10\"/>\n",
       "<rect x=\"80.784\" y=\"68\" width=\"14.5252\" height=\"14.5252\" fill=\"none\" stroke=\"rgba(0,255,168,1)\" stroke-miterlimit=\"10\"/>\n",
       "<circle cx=\"85.784\" cy=\"63\" r=\"14.5252\" fill=\"none\" stroke=\"rgba(0,255,168,1)\" stroke-miterlimit=\"10\"/>\n",
       "<line x1=\"83.664\" y1=\"142.368\" x2=\"89.568\" y2=\"136.464\" fill=\"none\" stroke=\"rgba(0,255,168,1)\" stroke-miterlimit=\"10\"/>\n",
       "<rect x=\"89.568\" y=\"53\" width=\"21.0864\" height=\"21.0864\" fill=\"none\" stroke=\"rgba(0,255,168,1)\" stroke-miterlimit=\"10\"/>\n",
       "<circle cx=\"94.568\" cy=\"48\" r=\"21.0864\" fill=\"none\" stroke=\"rgba(0,255,168,1)\" stroke-miterlimit=\"10\"/>\n",
       "<line x1=\"89.568\" y1=\"78.576\" x2=\"83.952\" y2=\"66.048\" fill=\"none\" stroke=\"rgba(0,255,168,1)\" stroke-miterlimit=\"10\"/>\n",
       "<line x1=\"83.952\" y1=\"66.048\" x2=\"82.872\" y2=\"65.472\" fill=\"none\" stroke=\"rgba(0,255,168,1)\" stroke-miterlimit=\"10\"/>\n",
       "<line x1=\"82.872\" y1=\"65.472\" x2=\"81.792\" y2=\"65.04\" fill=\"none\" stroke=\"rgba(0,255,168,1)\" stroke-miterlimit=\"10\"/>\n",
       "<line x1=\"81.792\" y1=\"65.04\" x2=\"80.064\" y2=\"63.6\" fill=\"none\" stroke=\"rgba(0,255,168,1)\" stroke-miterlimit=\"10\"/>\n",
       "<rect x=\"80.064\" y=\"58\" width=\"6.1008\" height=\"6.1008\" fill=\"none\" stroke=\"rgba(0,255,168,1)\" stroke-miterlimit=\"10\"/>\n",
       "<circle cx=\"85.064\" cy=\"53\" r=\"6.1008\" fill=\"none\" stroke=\"rgba(0,255,168,1)\" stroke-miterlimit=\"10\"/>\n",
       "<line x1=\"80.064\" y1=\"63.168\" x2=\"87.264\" y2=\"57.696\" fill=\"none\" stroke=\"rgba(0,255,168,1)\" stroke-miterlimit=\"10\"/>\n",
       "<line x1=\"87.264\" y1=\"57.696\" x2=\"88.56\" y2=\"57.48\" fill=\"none\" stroke=\"rgba(0,255,168,1)\" stroke-miterlimit=\"10\"/>\n",
       "<line x1=\"88.56\" y1=\"57.48\" x2=\"89.568\" y2=\"57.408\" fill=\"none\" stroke=\"rgba(0,255,168,1)\" stroke-miterlimit=\"10\"/>\n",
       "<line x1=\"89.568\" y1=\"57.408\" x2=\"96.696\" y2=\"57.768\" fill=\"none\" stroke=\"rgba(0,255,168,1)\" stroke-miterlimit=\"10\"/>\n",
       "<line x1=\"96.696\" y1=\"57.768\" x2=\"111.6\" y2=\"58.848\" fill=\"none\" stroke=\"rgba(0,255,168,1)\" stroke-miterlimit=\"10\"/>\n",
       "<line x1=\"111.6\" y1=\"58.848\" x2=\"122.256\" y2=\"59.28\" fill=\"none\" stroke=\"rgba(0,255,168,1)\" stroke-miterlimit=\"10\"/>\n",
       "<line x1=\"122.256\" y1=\"59.28\" x2=\"138.672\" y2=\"69.648\" fill=\"none\" stroke=\"rgba(0,255,168,1)\" stroke-miterlimit=\"10\"/>\n",
       "<line x1=\"138.672\" y1=\"69.648\" x2=\"141.408\" y2=\"82.464\" fill=\"none\" stroke=\"rgba(0,255,168,1)\" stroke-miterlimit=\"10\"/>\n",
       "<line x1=\"141.408\" y1=\"82.464\" x2=\"137.52\" y2=\"92.112\" fill=\"none\" stroke=\"rgba(0,255,168,1)\" stroke-miterlimit=\"10\"/>\n",
       "<line x1=\"137.52\" y1=\"92.112\" x2=\"131.184\" y2=\"95.28\" fill=\"none\" stroke=\"rgba(0,255,168,1)\" stroke-miterlimit=\"10\"/>\n",
       "<line x1=\"131.184\" y1=\"95.28\" x2=\"126.144\" y2=\"99.888\" fill=\"none\" stroke=\"rgba(0,255,168,1)\" stroke-miterlimit=\"10\"/>\n",
       "<line x1=\"126.144\" y1=\"99.888\" x2=\"129.384\" y2=\"102.336\" fill=\"none\" stroke=\"rgba(0,255,168,1)\" stroke-miterlimit=\"10\"/>\n",
       "<line x1=\"129.384\" y1=\"102.336\" x2=\"136.8\" y2=\"108.096\" fill=\"none\" stroke=\"rgba(0,255,168,1)\" stroke-miterlimit=\"10\"/>\n",
       "<line x1=\"136.8\" y1=\"108.096\" x2=\"139.176\" y2=\"109.968\" fill=\"none\" stroke=\"rgba(0,255,168,1)\" stroke-miterlimit=\"10\"/>\n",
       "<line x1=\"139.176\" y1=\"109.968\" x2=\"141.408\" y2=\"111.552\" fill=\"none\" stroke=\"rgba(0,255,168,1)\" stroke-miterlimit=\"10\"/>\n",
       "<line x1=\"141.408\" y1=\"111.552\" x2=\"149.04\" y2=\"125.952\" fill=\"none\" stroke=\"rgba(0,255,168,1)\" stroke-miterlimit=\"10\"/>\n",
       "<line x1=\"149.04\" y1=\"125.952\" x2=\"147.024\" y2=\"136.464\" fill=\"none\" stroke=\"rgba(0,255,168,1)\" stroke-miterlimit=\"10\"/>\n",
       "<line x1=\"147.024\" y1=\"136.464\" x2=\"141.552\" y2=\"143.808\" fill=\"none\" stroke=\"rgba(0,255,168,1)\" stroke-miterlimit=\"10\"/>\n",
       "<line x1=\"141.552\" y1=\"143.808\" x2=\"137.952\" y2=\"147.552\" fill=\"none\" stroke=\"rgba(0,255,168,1)\" stroke-miterlimit=\"10\"/>\n",
       "<line x1=\"137.952\" y1=\"147.552\" x2=\"125.28\" y2=\"150.144\" fill=\"none\" stroke=\"rgba(0,255,168,1)\" stroke-miterlimit=\"10\"/>\n",
       "<line x1=\"100.944\" y1=\"92.112\" x2=\"104.688\" y2=\"95.568\" fill=\"none\" stroke=\"rgba(0,255,168,1)\" stroke-miterlimit=\"10\"/>\n",
       "<line x1=\"104.688\" y1=\"95.568\" x2=\"106.848\" y2=\"96\" fill=\"none\" stroke=\"rgba(0,255,168,1)\" stroke-miterlimit=\"10\"/>\n",
       "<line x1=\"106.848\" y1=\"96\" x2=\"110.088\" y2=\"95.136\" fill=\"none\" stroke=\"rgba(0,255,168,1)\" stroke-miterlimit=\"10\"/>\n",
       "<line x1=\"110.088\" y1=\"95.136\" x2=\"114.192\" y2=\"94.128\" fill=\"none\" stroke=\"rgba(0,255,168,1)\" stroke-miterlimit=\"10\"/>\n",
       "<line x1=\"114.192\" y1=\"94.128\" x2=\"118.8\" y2=\"93.12\" fill=\"none\" stroke=\"rgba(0,255,168,1)\" stroke-miterlimit=\"10\"/>\n",
       "<line x1=\"118.8\" y1=\"93.12\" x2=\"122.256\" y2=\"92.112\" fill=\"none\" stroke=\"rgba(0,255,168,1)\" stroke-miterlimit=\"10\"/>\n",
       "<line x1=\"122.256\" y1=\"92.112\" x2=\"129.744\" y2=\"76.704\" fill=\"none\" stroke=\"rgba(0,255,168,1)\" stroke-miterlimit=\"10\"/>\n",
       "<line x1=\"129.744\" y1=\"76.704\" x2=\"120.24\" y2=\"65.04\" fill=\"none\" stroke=\"rgba(0,255,168,1)\" stroke-miterlimit=\"10\"/>\n",
       "<line x1=\"120.24\" y1=\"65.04\" x2=\"104.832\" y2=\"67.056\" fill=\"none\" stroke=\"rgba(0,255,168,1)\" stroke-miterlimit=\"10\"/>\n",
       "<line x1=\"104.832\" y1=\"67.056\" x2=\"100.944\" y2=\"70.944\" fill=\"none\" stroke=\"rgba(0,255,168,1)\" stroke-miterlimit=\"10\"/>\n",
       "<line x1=\"100.944\" y1=\"70.944\" x2=\"99.792\" y2=\"73.248\" fill=\"none\" stroke=\"rgba(0,255,168,1)\" stroke-miterlimit=\"10\"/>\n",
       "<line x1=\"99.792\" y1=\"73.248\" x2=\"99.36\" y2=\"75.696\" fill=\"none\" stroke=\"rgba(0,255,168,1)\" stroke-miterlimit=\"10\"/>\n",
       "<rect x=\"99.288\" y=\"68\" width=\"8.1747\" height=\"8.1747\" fill=\"none\" stroke=\"rgba(0,255,168,1)\" stroke-miterlimit=\"10\"/>\n",
       "<circle cx=\"104.288\" cy=\"63\" r=\"8.1747\" fill=\"none\" stroke=\"rgba(0,255,168,1)\" stroke-miterlimit=\"10\"/>\n",
       "<line x1=\"99.216\" y1=\"76.704\" x2=\"100.512\" y2=\"87.072\" fill=\"none\" stroke=\"rgba(0,255,168,1)\" stroke-miterlimit=\"10\"/>\n",
       "<line x1=\"100.512\" y1=\"87.072\" x2=\"100.944\" y2=\"92.112\" fill=\"none\" stroke=\"rgba(0,255,168,1)\" stroke-miterlimit=\"10\"/>\n",
       "<line x1=\"102.384\" y1=\"143.088\" x2=\"106.848\" y2=\"144.384\" fill=\"none\" stroke=\"rgba(0,255,168,1)\" stroke-miterlimit=\"10\"/>\n",
       "<rect x=\"115.488\" y=\"61\" width=\"16.8261\" height=\"16.8261\" fill=\"none\" stroke=\"rgba(0,255,168,1)\" stroke-miterlimit=\"10\"/>\n",
       "<circle cx=\"120.488\" cy=\"56\" r=\"16.8261\" fill=\"none\" stroke=\"rgba(0,255,168,1)\" stroke-miterlimit=\"10\"/>\n",
       "<line x1=\"124.128\" y1=\"144.384\" x2=\"136.944\" y2=\"137.184\" fill=\"none\" stroke=\"rgba(0,255,168,1)\" stroke-miterlimit=\"10\"/>\n",
       "<line x1=\"136.944\" y1=\"137.184\" x2=\"138.168\" y2=\"135.096\" fill=\"none\" stroke=\"rgba(0,255,168,1)\" stroke-miterlimit=\"10\"/>\n",
       "<line x1=\"138.168\" y1=\"135.096\" x2=\"139.392\" y2=\"132.72\" fill=\"none\" stroke=\"rgba(0,255,168,1)\" stroke-miterlimit=\"10\"/>\n",
       "<line x1=\"139.392\" y1=\"132.72\" x2=\"138.24\" y2=\"117.888\" fill=\"none\" stroke=\"rgba(0,255,168,1)\" stroke-miterlimit=\"10\"/>\n",
       "<line x1=\"138.24\" y1=\"117.888\" x2=\"136.296\" y2=\"115.584\" fill=\"none\" stroke=\"rgba(0,255,168,1)\" stroke-miterlimit=\"10\"/>\n",
       "<line x1=\"136.296\" y1=\"115.584\" x2=\"133.776\" y2=\"113.424\" fill=\"none\" stroke=\"rgba(0,255,168,1)\" stroke-miterlimit=\"10\"/>\n",
       "<line x1=\"133.776\" y1=\"113.424\" x2=\"106.848\" y2=\"103.776\" fill=\"none\" stroke=\"rgba(0,255,168,1)\" stroke-miterlimit=\"10\"/>\n",
       "<line x1=\"106.848\" y1=\"103.776\" x2=\"100.944\" y2=\"109.536\" fill=\"none\" stroke=\"rgba(0,255,168,1)\" stroke-miterlimit=\"10\"/>\n",
       "<line x1=\"100.944\" y1=\"109.536\" x2=\"99.216\" y2=\"132.72\" fill=\"none\" stroke=\"rgba(0,255,168,1)\" stroke-miterlimit=\"10\"/>\n",
       "<line x1=\"99.216\" y1=\"132.72\" x2=\"99.936\" y2=\"141.936\" fill=\"none\" stroke=\"rgba(0,255,168,1)\" stroke-miterlimit=\"10\"/>\n",
       "<line x1=\"99.936\" y1=\"141.936\" x2=\"102.384\" y2=\"143.088\" fill=\"none\" stroke=\"rgba(0,255,168,1)\" stroke-miterlimit=\"10\"/>\n",
       "</svg>"
      ],
      "text/plain": [
       "<IPython.core.display.SVG object>"
      ]
     },
     "metadata": {},
     "output_type": "display_data"
    }
   ],
   "source": [
    "drawGlyphTreeByValue()"
   ]
  },
  {
   "cell_type": "code",
   "execution_count": 49,
   "metadata": {},
   "outputs": [
    {
     "data": {
      "application/vnd.jupyter.widget-view+json": {
       "model_id": "5695bd49ba3c4b88b6ba039fbea30079",
       "version_major": 2,
       "version_minor": 0
      },
      "text/plain": [
       "interactive(children=(IntSlider(value=5, description='value', max=10), Output()), _dom_classes=('widget-intera…"
      ]
     },
     "metadata": {},
     "output_type": "display_data"
    },
    {
     "data": {
      "text/plain": [
       "<function __main__.drawGlyphTreeByValue(value=1)>"
      ]
     },
     "execution_count": 49,
     "metadata": {},
     "output_type": "execute_result"
    }
   ],
   "source": [
    "glyph_slider = widgets.IntSlider(min=0, max=10, value=5)\n",
    "widgets.interact(drawGlyphTreeByValue, value=glyph_slider)"
   ]
  }
 ],
 "metadata": {
  "kernelspec": {
   "display_name": "Python 3",
   "language": "python",
   "name": "python3"
  },
  "language_info": {
   "codemirror_mode": {
    "name": "ipython",
    "version": 3
   },
   "file_extension": ".py",
   "mimetype": "text/x-python",
   "name": "python",
   "nbconvert_exporter": "python",
   "pygments_lexer": "ipython3",
   "version": "3.8.5"
  }
 },
 "nbformat": 4,
 "nbformat_minor": 4
}
